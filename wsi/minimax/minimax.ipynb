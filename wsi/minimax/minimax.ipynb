{
  "cells": [
    {
      "cell_type": "markdown",
      "metadata": {
        "collapsed": false
      },
      "source": [
        "# Ćwiczenie 3\n",
        "\n",
        "Celem ćwiczenia jest imlementacja metody [Minimax z obcinaniem alpha-beta](https://en.wikipedia.org/wiki/Alpha%E2%80%93beta_pruning) do gry Connect Four (czwórki).\n",
        "\n",
        "W trakcie ćwiczenia można skorzystać z reposytorium z implementacją gry [Connect Four udostępnionym przez Jakuba Łyskawę](https://github.com/lychanl/two-player-games). Ewentualnie, można zaimplementować samemu grę Connect Four (ale, tak aby rozwiązanie miało ten sam interfejs co podany poniżej).\n",
        "\n",
        "Implementację Minimax należy przetestować używając różną głębokość przeszukiwania. Implementacja Solvera musi zapewniać interfejs jak poniżej, ale można dodać dowolne metody prywatne oraz klasy wspomagające (jeżeli będą potrzebne).\n",
        "\n",
        "Punktacja:\n",
        "- Działająca metoda Minimax - **2 pkt**\n",
        "- Działająca metoda Minimax z obcinaniem alpha-beta - **1.5 pkt**\n",
        "- Analiza jakości solvera w zależności od głębokości przeszukiwania **1.5pkt**\n",
        "    - należy zaimplementować w tym celu prostą wizualizację rozgrywki dwóch agentów, bądź kilka przykładów 'z ręki'\n",
        "- Jakość kodu **2pkt**"
      ]
    },
    {
      "cell_type": "markdown",
      "metadata": {
        "collapsed": false
      },
      "source": [
        "Aby importowanie elementów z poniższej komórki działało należy umieścić tego notebooka w tym samym folderze co paczkę `two_player_games`:\n",
        "```\n",
        "├── LICENSE\n",
        "├── README.md\n",
        "├── minimax.ipynb # <<< HERE\n",
        "├── test\n",
        "│   ├── __init__.py\n",
        "│   ├── test_connect_four.py\n",
        "│   ├── test_dots_and_boxes.py\n",
        "│   └── test_pick.py\n",
        "└── two_player_games\n",
        "    ├── __init__.py\n",
        "    ├── games\n",
        "    │   ├── connect_four.py\n",
        "    │   └── dots_and_boxes.py\n",
        "    ├── move.py\n",
        "    ├── player.py\n",
        "    └── state.py\n",
        "```"
      ]
    },
    {
      "cell_type": "code",
      "execution_count": 1,
      "metadata": {
        "collapsed": true
      },
      "outputs": [],
      "source": [
        "from typing import Tuple, List\n",
        "from copy import copy\n",
        "\n",
        "from two_player_games.player import Player\n",
        "from two_player_games.games.connect_four import ConnectFour, ConnectFourMove"
      ]
    },
    {
      "cell_type": "markdown",
      "metadata": {
        "collapsed": false
      },
      "source": [
        "Wielkość planszy"
      ]
    },
    {
      "cell_type": "code",
      "execution_count": 2,
      "metadata": {
        "collapsed": false
      },
      "outputs": [],
      "source": [
        "ROW_COUNT = 5\n",
        "COLUMN_COUNT = 6"
      ]
    },
    {
      "cell_type": "code",
      "execution_count": 72,
      "metadata": {
        "collapsed": false
      },
      "outputs": [],
      "source": [
        "from copy import deepcopy\n",
        "\n",
        "\n",
        "class MinMaxSolver:\n",
        "    def __init__(self, game: ConnectFour):\n",
        "        self.game = game\n",
        "\n",
        "    def evaluate_position(self, player: Player)->float:\n",
        "        return self._get_payoff(player) if self._is_terminal_position() else self.evaluate_heuristic(player)\n",
        "    \n",
        "    def evaluate_heuristic(self, player: Player)->float:\n",
        "        oponent = self.game.first_player if self.game.first_player != player else self.game.second_player\n",
        "\n",
        "        player_score = \\\n",
        "            self._evaluate_middle_position_heuristic(player) + \\\n",
        "            self._evaluate_check_heuristic(player)\n",
        "        \n",
        "        oponent_score = \\\n",
        "            self._evaluate_middle_position_heuristic(oponent) + \\\n",
        "            self._evaluate_check_heuristic(oponent)\n",
        "\n",
        "        return player_score - oponent_score\n",
        "\n",
        "\n",
        "    def get_best_move(self)->int:\n",
        "        pass\n",
        "\n",
        "    def is_valid_move(self, col_index:int)->bool:\n",
        "        return col_index in [move.column for move in self.game.get_moves()]\n",
        "\n",
        "    def minimax(self, depth, alpha:float, beta:float, is_maximizing_player:bool)-> Tuple[int, float]:\n",
        "        \"\"\"Returns column index and score\"\"\"\n",
        "        if depth == 0 or self.game.is_finished():\n",
        "            return None, self.evaluate_position(self.game.first_player)\n",
        "        \n",
        "        if is_maximizing_player:\n",
        "            max_score = float('-inf')\n",
        "            max_best_move = None\n",
        "            for move in self.game.get_moves():\n",
        "                max_current_state = deepcopy(self.game.state)\n",
        "                self.game.make_move(move)\n",
        "                _, new_max_score = self.minimax(depth - 1, alpha, beta, False)\n",
        "                self.game.state = max_current_state\n",
        "                if new_max_score > max_score:\n",
        "                    max_score = new_max_score\n",
        "                    max_best_move = move.column\n",
        "                \n",
        "                alpha = max(alpha,  max_score)\n",
        "                if  alpha >= beta:\n",
        "                    break\n",
        "\n",
        "            return max_best_move, max_score\n",
        "\n",
        "        else:\n",
        "            min_score = float('inf')\n",
        "            min_best_move = None\n",
        "            for move in self.game.get_moves():\n",
        "                min_current_state = deepcopy(self.game.state)\n",
        "                self.game.make_move(move)\n",
        "                _, new_min_score = self.minimax(depth - 1, alpha, beta, True)\n",
        "                self.game.state = min_current_state\n",
        "                if new_min_score < min_score:\n",
        "                    min_score = new_min_score\n",
        "                    min_best_move = move.column\n",
        "                \n",
        "                beta = min(beta, min_score)\n",
        "                if  alpha >= beta:\n",
        "                    break\n",
        "        \n",
        "            return min_best_move, min_score\n",
        "        \n",
        "    # Helper functions\n",
        "    def _is_terminal_position(self)->bool:\n",
        "        return self.game.is_finished()\n",
        "\n",
        "    def _get_payoff(self, player: Player)->int:\n",
        "        winner = self.game.get_winner()\n",
        "        if winner is None:\n",
        "            return 0    # draw\n",
        "    \n",
        "        if self.game.first_player == winner:\n",
        "            return float('inf')    # player won\n",
        "        \n",
        "        return float('-inf')   # player lost\n",
        "    \n",
        "    def _evaluate_middle_position_heuristic(self, player: Player)->float:\n",
        "        middle_columns = [len(self.game.state.fields) // 2 - 1, len(self.game.state.fields) // 2]\n",
        "        middle_pieces_counts = [self.game.state.count_pieces(col, player) for col in middle_columns]\n",
        "        return sum(self._score_middle_pieces(count) for count in middle_pieces_counts)\n",
        "     \n",
        "    def _evaluate_check_heuristic(self, player: Player) -> float:\n",
        "        checks = self.game.state.count_checks(player)\n",
        "        return sum(self._score_check(check) for check in checks)\n",
        "    \n",
        "    def _score_middle_pieces(self, count: int) -> int:\n",
        "        return 2 ** (count - 1) if count > 0 else 0\n",
        "    \n",
        "    def _score_check(self, check:  int) -> int:\n",
        "        return 4 ** (check - 1) if check > 0 else 0\n",
        "    \n"
      ]
    },
    {
      "cell_type": "code",
      "execution_count": 4,
      "metadata": {},
      "outputs": [],
      "source": [
        "import random\n",
        "from IPython.display import clear_output"
      ]
    },
    {
      "cell_type": "markdown",
      "metadata": {},
      "source": [
        "## Opis\n",
        "\n",
        "Solver implementuje klasyczny algorytm minimax z odcięciem alpha-bety na przykładzie gry Connect4. Składa się on z:\n",
        "1. zasadniczego algorytmu\n",
        "2. funkcji herystki\n",
        "2. funkcji wypłaty\n",
        "\n",
        "### Heurystyka\n",
        "Zadaniem heurystyki jest ocena pozycji na planszy, na której znajduje się `max` (gracz) oraz `min` (oponent). Głównym wzorem uzytym w celu wyliczenia tej oceny jest\n",
        "```\n",
        "player_score - oponent_score\n",
        "```\n",
        "Ocena pozycji (score) wyliczana jest za pomocą dwóch heurystyk pomocniczych:\n",
        "1. heurystyka środkowej pozycji\n",
        "2. heurystyka \"znaczków\"\n",
        "\n",
        "Heurystyka środkowej pozycji mówi nam, aby w przypadku gdy mamy sytuację startową lub remisową, ruchy lepiej wykonywać najbardziej po środku. \n",
        "Z kolei heurystyka znaczków ocenia aktualne połączenia gracza w danym kierunku (kolumna, wiersz, diagonala), a następnie w zaleznosci od wartości połączeń premiuje gracza wzorem \n",
        "```\n",
        "2 ^ (checks_count - 1)\n",
        "```\n",
        "\n",
        "### Wypłata\n",
        "Wypłata realizowana jest w oparciu o wygranego. Jeśli wygrywa `min`, zwróci `-inf`, jeśli max, zwróci `inf`. W przypadku remisu zwróconą wartością będzie `0`."
      ]
    },
    {
      "cell_type": "markdown",
      "metadata": {
        "collapsed": false
      },
      "source": [
        "## Rozgrywka"
      ]
    },
    {
      "cell_type": "markdown",
      "metadata": {},
      "source": [
        "### Rozpoczęcie od środka"
      ]
    },
    {
      "cell_type": "code",
      "execution_count": 111,
      "metadata": {},
      "outputs": [
        {
          "name": "stdout",
          "output_type": "stream",
          "text": [
            "Current player: \u001b[94ma\u001b[0m\n",
            "[  ][  ][  ][  ][  ][  ]\n",
            "[  ][  ][  ][  ][  ][  ]\n",
            "[  ][  ][  ][  ][  ][  ]\n",
            "[\u001b[91mb\u001b[0m][  ][  ][  ][  ][  ]\n",
            "[\u001b[94ma\u001b[0m][  ][  ][  ][  ][  ]\n",
            "B should move to 0 column with score: 0\n"
          ]
        }
      ],
      "source": [
        "# Static test\n",
        "\n",
        "p1 = Player(\"a\")\n",
        "p2 = Player(\"b\")\n",
        "\n",
        "depth = 5\n",
        "\n",
        "game = ConnectFour(size=(COLUMN_COUNT, ROW_COUNT), first_player=p1, second_player=p2)\n",
        "solver = MinMaxSolver(game)\n",
        "\n",
        "player_move=  random.choice(game.get_moves())\n",
        "game.make_move(player_move)\n",
        "\n",
        "oponent_move, score = solver.minimax(depth, float('-inf'), float('inf'), True)\n",
        "game.make_move(ConnectFourMove(oponent_move))\n",
        "\n",
        "print(game)\n",
        "print(f'B should move to {oponent_move} column with score: {score}')"
      ]
    },
    {
      "cell_type": "markdown",
      "metadata": {},
      "source": [
        "### Znajdowanie wygranej"
      ]
    },
    {
      "cell_type": "code",
      "execution_count": 86,
      "metadata": {},
      "outputs": [
        {
          "name": "stdout",
          "output_type": "stream",
          "text": [
            "Current player: \u001b[91mb\u001b[0m\n",
            "[  ][  ][  ][  ][  ][  ]\n",
            "[  ][  ][  ][  ][  ][  ]\n",
            "[  ][  ][  ][\u001b[91mb\u001b[0m][  ][  ]\n",
            "[  ][  ][  ][\u001b[91mb\u001b[0m][  ][  ]\n",
            "[\u001b[94ma\u001b[0m][  ][\u001b[94ma\u001b[0m][\u001b[91mb\u001b[0m][\u001b[94ma\u001b[0m][\u001b[94ma\u001b[0m]\n",
            "B should move to 3 column with score: -inf\n"
          ]
        }
      ],
      "source": [
        "# Static test\n",
        "\n",
        "p1 = Player(\"a\")\n",
        "p2 = Player(\"b\")\n",
        "\n",
        "game = ConnectFour(size=(COLUMN_COUNT, ROW_COUNT), first_player=p1, second_player=p2)\n",
        "solver = MinMaxSolver(game)\n",
        "\n",
        "game.make_move(ConnectFourMove(2))\n",
        "game.make_move(ConnectFourMove(3))\n",
        "\n",
        "game.make_move(ConnectFourMove(5))\n",
        "game.make_move(ConnectFourMove(3))\n",
        "\n",
        "game.make_move(ConnectFourMove(4))\n",
        "game.make_move(ConnectFourMove(3))\n",
        "\n",
        "game.make_move(ConnectFourMove(0))\n",
        "\n",
        "oponent_move, score = solver.minimax(5, float('-inf'), float('inf'), False)\n",
        "print(game)\n",
        "print(f'B should move to {oponent_move} column with score: {score}')"
      ]
    },
    {
      "cell_type": "markdown",
      "metadata": {},
      "source": [
        "### Blokowanie przeciwnika"
      ]
    },
    {
      "cell_type": "code",
      "execution_count": 87,
      "metadata": {},
      "outputs": [
        {
          "name": "stdout",
          "output_type": "stream",
          "text": [
            "Current player: \u001b[94ma\u001b[0m\n",
            "[  ][  ][  ][  ][  ][  ]\n",
            "[  ][  ][  ][  ][  ][  ]\n",
            "[  ][  ][\u001b[94ma\u001b[0m][  ][  ][  ]\n",
            "[  ][  ][\u001b[94ma\u001b[0m][  ][  ][  ]\n",
            "[  ][  ][\u001b[94ma\u001b[0m][\u001b[91mb\u001b[0m][\u001b[91mb\u001b[0m][\u001b[91mb\u001b[0m]\n",
            "B should move to 2 column with score: -inf\n"
          ]
        }
      ],
      "source": [
        "# Static test\n",
        "\n",
        "p1 = Player(\"a\")\n",
        "p2 = Player(\"b\")\n",
        "\n",
        "game = ConnectFour(size=(COLUMN_COUNT, ROW_COUNT), first_player=p1, second_player=p2)\n",
        "solver = MinMaxSolver(game)\n",
        "\n",
        "game.make_move(ConnectFourMove(2))\n",
        "game.make_move(ConnectFourMove(3))\n",
        "\n",
        "game.make_move(ConnectFourMove(2))\n",
        "game.make_move(ConnectFourMove(4))\n",
        "\n",
        "game.make_move(ConnectFourMove(2))\n",
        "game.make_move(ConnectFourMove(5))\n",
        "\n",
        "oponent_move, score = solver.minimax(7,  float('-inf'), float('inf'), False)\n",
        "\n",
        "print(game)\n",
        "print(f'B should move to {oponent_move} column with score: {score}')"
      ]
    },
    {
      "cell_type": "code",
      "execution_count": 92,
      "metadata": {
        "collapsed": false
      },
      "outputs": [
        {
          "name": "stdout",
          "output_type": "stream",
          "text": [
            "Current player: \u001b[94ma\u001b[0m\n",
            "[\u001b[94ma\u001b[0m][  ][  ][  ][  ][  ]\n",
            "[\u001b[91mb\u001b[0m][  ][  ][  ][  ][  ]\n",
            "[\u001b[94ma\u001b[0m][  ][  ][  ][  ][  ]\n",
            "[\u001b[91mb\u001b[0m][\u001b[91mb\u001b[0m][  ][  ][  ][  ]\n",
            "[\u001b[94ma\u001b[0m][\u001b[91mb\u001b[0m][  ][  ][  ][  ]\n"
          ]
        }
      ],
      "source": [
        "# Realtime test\n",
        "\n",
        "p1 = Player(\"a\")\n",
        "p2 = Player(\"b\")\n",
        "\n",
        "game = ConnectFour(size=(COLUMN_COUNT, ROW_COUNT), first_player=p1, second_player=p2)\n",
        "solver = MinMaxSolver(game)\n",
        "\n",
        "def print_game():\n",
        "    clear_output()\n",
        "    print(game)\n",
        "\n",
        "\n",
        "column = random.randint(0, COLUMN_COUNT - 1)\n",
        "print_game()\n",
        "for i in range(4):\n",
        "    # player move\n",
        "    game.make_move(ConnectFourMove(column))\n",
        "\n",
        "    # oponent move\n",
        "    oponent_move_column, oponent_score = solver.minimax(5, float('-inf'),  float('inf'),  True)\n",
        "    if oponent_move_column is None:\n",
        "        print(\"No move\")\n",
        "        break\n",
        "\n",
        "    game.make_move(ConnectFourMove(oponent_move_column))\n",
        "    print_game()\n"
      ]
    },
    {
      "cell_type": "markdown",
      "metadata": {},
      "source": [
        "### Symulacja dwóch agentów"
      ]
    },
    {
      "cell_type": "code",
      "execution_count": 13,
      "metadata": {},
      "outputs": [],
      "source": [
        "def simulate(depth: int, first_move: int = None, verbose: bool = False):\n",
        "    p1 = Player(\"a\")\n",
        "    p2 = Player(\"b\")\n",
        "\n",
        "    game = ConnectFour(size=(COLUMN_COUNT, ROW_COUNT), first_player=p1, second_player=p2)\n",
        "    solver = MinMaxSolver(game)\n",
        "\n",
        "    def print_game():\n",
        "        clear_output()\n",
        "        print(game)\n",
        "\n",
        "    # first player move\n",
        "    game.make_move(ConnectFourMove(first_move if first_move else random.randint(0, COLUMN_COUNT - 1)))\n",
        "\n",
        "    if verbose:\n",
        "        print_game()\n",
        "\n",
        "    while not game.is_finished():\n",
        "        # oponent move\n",
        "        oponent_move_column, oponent_score = solver.minimax(depth, float('-inf'),  float('inf'),  False)\n",
        "        if oponent_move_column is None:\n",
        "            oponent_move_column = random.choice(game.get_moves()).column  # lost game\n",
        "\n",
        "        game.make_move(ConnectFourMove(oponent_move_column))\n",
        "\n",
        "        if verbose:\n",
        "            print_game()\n",
        "\n",
        "        if game.is_finished():\n",
        "            break\n",
        "\n",
        "        # player move\n",
        "        player_move_column, player_score = solver.minimax(depth, float('-inf'),  float('inf'),  True)\n",
        "        if player_move_column is None:\n",
        "            player_move_column = random.choice(game.get_moves()).column # lost game\n",
        "        \n",
        "        game.make_move(ConnectFourMove(player_move_column))\n",
        "\n",
        "    return game.get_winner()"
      ]
    },
    {
      "cell_type": "code",
      "execution_count": 106,
      "metadata": {},
      "outputs": [
        {
          "name": "stdout",
          "output_type": "stream",
          "text": [
            "Current player: \u001b[94ma\u001b[0m\n",
            "[\u001b[91mb\u001b[0m][\u001b[94ma\u001b[0m][\u001b[94ma\u001b[0m][\u001b[91mb\u001b[0m][\u001b[91mb\u001b[0m][\u001b[91mb\u001b[0m]\n",
            "[\u001b[94ma\u001b[0m][\u001b[91mb\u001b[0m][\u001b[91mb\u001b[0m][\u001b[94ma\u001b[0m][\u001b[94ma\u001b[0m][\u001b[94ma\u001b[0m]\n",
            "[\u001b[91mb\u001b[0m][\u001b[94ma\u001b[0m][\u001b[94ma\u001b[0m][\u001b[91mb\u001b[0m][\u001b[91mb\u001b[0m][\u001b[91mb\u001b[0m]\n",
            "[\u001b[94ma\u001b[0m][\u001b[91mb\u001b[0m][\u001b[91mb\u001b[0m][\u001b[94ma\u001b[0m][\u001b[91mb\u001b[0m][\u001b[94ma\u001b[0m]\n",
            "[\u001b[91mb\u001b[0m][\u001b[94ma\u001b[0m][\u001b[91mb\u001b[0m][\u001b[94ma\u001b[0m][\u001b[94ma\u001b[0m][\u001b[94ma\u001b[0m]\n",
            "Draw\n"
          ]
        }
      ],
      "source": [
        "# Interactive simulation\n",
        "depth = 5\n",
        "winner = simulate(depth, verbose=True)\n",
        "\n",
        "if winner is None:\n",
        "    print(\"Draw\")\n",
        "else:\n",
        "    print(f\"Winner is {winner.char}\")"
      ]
    },
    {
      "cell_type": "code",
      "execution_count": 108,
      "metadata": {},
      "outputs": [
        {
          "name": "stdout",
          "output_type": "stream",
          "text": [
            "With depth 1 result was: draw\n",
            "With depth 2 result was: draw\n",
            "With depth 3 result was: a\n",
            "With depth 4 result was: a\n",
            "With depth 5 result was: a\n",
            "With depth 6 result was: b\n",
            "With depth 7 result was: draw\n"
          ]
        }
      ],
      "source": [
        "# Results test\n",
        "for depth in range(1, 8):\n",
        "    winner = simulate(depth)\n",
        "    print(f'With depth {depth} result was: {winner.char if winner else \"draw\"}')"
      ]
    },
    {
      "cell_type": "markdown",
      "metadata": {},
      "source": [
        "### Gameplay"
      ]
    },
    {
      "cell_type": "code",
      "execution_count": 109,
      "metadata": {},
      "outputs": [
        {
          "name": "stdout",
          "output_type": "stream",
          "text": [
            "Current player: \u001b[94ma\u001b[0m\n",
            "[  ][  ][  ][  ][  ][  ]\n",
            "[  ][  ][  ][  ][\u001b[91mb\u001b[0m][  ]\n",
            "[  ][  ][  ][  ][\u001b[94ma\u001b[0m][  ]\n",
            "[\u001b[91mb\u001b[0m][  ][  ][  ][\u001b[94ma\u001b[0m][  ]\n",
            "[\u001b[91mb\u001b[0m][  ][  ][  ][\u001b[94ma\u001b[0m][  ]\n"
          ]
        },
        {
          "ename": "KeyboardInterrupt",
          "evalue": "Interrupted by user",
          "output_type": "error",
          "traceback": [
            "\u001b[0;31m---------------------------------------------------------------------------\u001b[0m",
            "\u001b[0;31mKeyboardInterrupt\u001b[0m                         Traceback (most recent call last)",
            "\u001b[1;32m/Users/grzegorzstatkiewicz/Documents/studies/wsi/minimax/minimax.ipynb Cell 22\u001b[0m line \u001b[0;36m1\n\u001b[1;32m     <a href='vscode-notebook-cell:/Users/grzegorzstatkiewicz/Documents/studies/wsi/minimax/minimax.ipynb#Y114sZmlsZQ%3D%3D?line=12'>13</a>\u001b[0m \u001b[39mwhile\u001b[39;00m \u001b[39mnot\u001b[39;00m game\u001b[39m.\u001b[39mis_finished():\n\u001b[1;32m     <a href='vscode-notebook-cell:/Users/grzegorzstatkiewicz/Documents/studies/wsi/minimax/minimax.ipynb#Y114sZmlsZQ%3D%3D?line=13'>14</a>\u001b[0m     \u001b[39mif\u001b[39;00m game\u001b[39m.\u001b[39mget_current_player()\u001b[39m.\u001b[39mchar \u001b[39m==\u001b[39m p1\u001b[39m.\u001b[39mchar:\n\u001b[0;32m---> <a href='vscode-notebook-cell:/Users/grzegorzstatkiewicz/Documents/studies/wsi/minimax/minimax.ipynb#Y114sZmlsZQ%3D%3D?line=14'>15</a>\u001b[0m         move \u001b[39m=\u001b[39m \u001b[39mint\u001b[39m(\u001b[39minput\u001b[39;49m(\u001b[39m\"\u001b[39;49m\u001b[39mYour turn: \u001b[39;49m\u001b[39m\"\u001b[39;49m))\n\u001b[1;32m     <a href='vscode-notebook-cell:/Users/grzegorzstatkiewicz/Documents/studies/wsi/minimax/minimax.ipynb#Y114sZmlsZQ%3D%3D?line=16'>17</a>\u001b[0m         \u001b[39mif\u001b[39;00m \u001b[39mnot\u001b[39;00m solver\u001b[39m.\u001b[39mis_valid_move(move):\n\u001b[1;32m     <a href='vscode-notebook-cell:/Users/grzegorzstatkiewicz/Documents/studies/wsi/minimax/minimax.ipynb#Y114sZmlsZQ%3D%3D?line=17'>18</a>\u001b[0m             \u001b[39mprint\u001b[39m(\u001b[39m\"\u001b[39m\u001b[39mInvalid move\u001b[39m\u001b[39m\"\u001b[39m)\n",
            "File \u001b[0;32m~/Library/Python/3.12/lib/python/site-packages/ipykernel/kernelbase.py:1251\u001b[0m, in \u001b[0;36mKernel.raw_input\u001b[0;34m(self, prompt)\u001b[0m\n\u001b[1;32m   1249\u001b[0m     msg \u001b[39m=\u001b[39m \u001b[39m\"\u001b[39m\u001b[39mraw_input was called, but this frontend does not support input requests.\u001b[39m\u001b[39m\"\u001b[39m\n\u001b[1;32m   1250\u001b[0m     \u001b[39mraise\u001b[39;00m StdinNotImplementedError(msg)\n\u001b[0;32m-> 1251\u001b[0m \u001b[39mreturn\u001b[39;00m \u001b[39mself\u001b[39;49m\u001b[39m.\u001b[39;49m_input_request(\n\u001b[1;32m   1252\u001b[0m     \u001b[39mstr\u001b[39;49m(prompt),\n\u001b[1;32m   1253\u001b[0m     \u001b[39mself\u001b[39;49m\u001b[39m.\u001b[39;49m_parent_ident[\u001b[39m\"\u001b[39;49m\u001b[39mshell\u001b[39;49m\u001b[39m\"\u001b[39;49m],\n\u001b[1;32m   1254\u001b[0m     \u001b[39mself\u001b[39;49m\u001b[39m.\u001b[39;49mget_parent(\u001b[39m\"\u001b[39;49m\u001b[39mshell\u001b[39;49m\u001b[39m\"\u001b[39;49m),\n\u001b[1;32m   1255\u001b[0m     password\u001b[39m=\u001b[39;49m\u001b[39mFalse\u001b[39;49;00m,\n\u001b[1;32m   1256\u001b[0m )\n",
            "File \u001b[0;32m~/Library/Python/3.12/lib/python/site-packages/ipykernel/kernelbase.py:1295\u001b[0m, in \u001b[0;36mKernel._input_request\u001b[0;34m(self, prompt, ident, parent, password)\u001b[0m\n\u001b[1;32m   1292\u001b[0m \u001b[39mexcept\u001b[39;00m \u001b[39mKeyboardInterrupt\u001b[39;00m:\n\u001b[1;32m   1293\u001b[0m     \u001b[39m# re-raise KeyboardInterrupt, to truncate traceback\u001b[39;00m\n\u001b[1;32m   1294\u001b[0m     msg \u001b[39m=\u001b[39m \u001b[39m\"\u001b[39m\u001b[39mInterrupted by user\u001b[39m\u001b[39m\"\u001b[39m\n\u001b[0;32m-> 1295\u001b[0m     \u001b[39mraise\u001b[39;00m \u001b[39mKeyboardInterrupt\u001b[39;00m(msg) \u001b[39mfrom\u001b[39;00m \u001b[39mNone\u001b[39;00m\n\u001b[1;32m   1296\u001b[0m \u001b[39mexcept\u001b[39;00m \u001b[39mException\u001b[39;00m:\n\u001b[1;32m   1297\u001b[0m     \u001b[39mself\u001b[39m\u001b[39m.\u001b[39mlog\u001b[39m.\u001b[39mwarning(\u001b[39m\"\u001b[39m\u001b[39mInvalid Message:\u001b[39m\u001b[39m\"\u001b[39m, exc_info\u001b[39m=\u001b[39m\u001b[39mTrue\u001b[39;00m)\n",
            "\u001b[0;31mKeyboardInterrupt\u001b[0m: Interrupted by user"
          ]
        }
      ],
      "source": [
        "p1 = Player(\"a\")\n",
        "p2 = Player(\"b\")\n",
        "game = ConnectFour(size=(COLUMN_COUNT, ROW_COUNT), first_player=p1, second_player=p2)\n",
        "solver = MinMaxSolver(game)\n",
        "\n",
        "depth = 5\n",
        "\n",
        "def print_game():\n",
        "    clear_output()\n",
        "    print(game)\n",
        "\n",
        "\n",
        "while not game.is_finished():\n",
        "    if game.get_current_player().char == p1.char:\n",
        "        move = int(input(\"Your turn: \"))\n",
        "        \n",
        "        if not solver.is_valid_move(move):\n",
        "            print(\"Invalid move\")\n",
        "            continue\n",
        "\n",
        "        game.make_move(ConnectFourMove(move))\n",
        "    else:\n",
        "        move, score = solver.minimax(depth, float('-inf'),  float('inf'),  True)\n",
        "        if move is None:\n",
        "            move = random.choice(game.get_moves()).column # lost game\n",
        "            \n",
        "        game.make_move(ConnectFourMove(move))\n",
        "    print_game()\n",
        "\n",
        "    \n",
        "winner = game.get_winner()\n",
        "if winner is None:\n",
        "    print(\"Draw\")\n",
        "else:\n",
        "    print(\"Winner:\", winner.char)"
      ]
    }
  ],
  "metadata": {
    "kernelspec": {
      "display_name": "Python 3",
      "language": "python",
      "name": "python3"
    },
    "language_info": {
      "codemirror_mode": {
        "name": "ipython",
        "version": 3
      },
      "file_extension": ".py",
      "mimetype": "text/x-python",
      "name": "python",
      "nbconvert_exporter": "python",
      "pygments_lexer": "ipython3",
      "version": "3.12.0"
    },
    "nteract": {
      "version": "nteract-front-end@1.0.0"
    }
  },
  "nbformat": 4,
  "nbformat_minor": 0
}
