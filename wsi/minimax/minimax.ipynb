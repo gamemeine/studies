{
  "cells": [
    {
      "cell_type": "markdown",
      "metadata": {
        "collapsed": false
      },
      "source": [
        "# Ćwiczenie 3\n",
        "\n",
        "Celem ćwiczenia jest imlementacja metody [Minimax z obcinaniem alpha-beta](https://en.wikipedia.org/wiki/Alpha%E2%80%93beta_pruning) do gry Connect Four (czwórki).\n",
        "\n",
        "W trakcie ćwiczenia można skorzystać z reposytorium z implementacją gry [Connect Four udostępnionym przez Jakuba Łyskawę](https://github.com/lychanl/two-player-games). Ewentualnie, można zaimplementować samemu grę Connect Four (ale, tak aby rozwiązanie miało ten sam interfejs co podany poniżej).\n",
        "\n",
        "Implementację Minimax należy przetestować używając różną głębokość przeszukiwania. Implementacja Solvera musi zapewniać interfejs jak poniżej, ale można dodać dowolne metody prywatne oraz klasy wspomagające (jeżeli będą potrzebne).\n",
        "\n",
        "Punktacja:\n",
        "- Działająca metoda Minimax - **2 pkt**\n",
        "- Działająca metoda Minimax z obcinaniem alpha-beta - **1.5 pkt**\n",
        "- Analiza jakości solvera w zależności od głębokości przeszukiwania **1.5pkt**\n",
        "    - należy zaimplementować w tym celu prostą wizualizację rozgrywki dwóch agentów, bądź kilka przykładów 'z ręki'\n",
        "- Jakość kodu **2pkt**"
      ]
    },
    {
      "cell_type": "markdown",
      "metadata": {
        "collapsed": false
      },
      "source": [
        "Aby importowanie elementów z poniższej komórki działało należy umieścić tego notebooka w tym samym folderze co paczkę `two_player_games`:\n",
        "```\n",
        "├── LICENSE\n",
        "├── README.md\n",
        "├── minimax.ipynb # <<< HERE\n",
        "├── test\n",
        "│   ├── __init__.py\n",
        "│   ├── test_connect_four.py\n",
        "│   ├── test_dots_and_boxes.py\n",
        "│   └── test_pick.py\n",
        "└── two_player_games\n",
        "    ├── __init__.py\n",
        "    ├── games\n",
        "    │   ├── connect_four.py\n",
        "    │   └── dots_and_boxes.py\n",
        "    ├── move.py\n",
        "    ├── player.py\n",
        "    └── state.py\n",
        "```"
      ]
    },
    {
      "cell_type": "code",
      "execution_count": 74,
      "metadata": {
        "collapsed": true
      },
      "outputs": [],
      "source": [
        "from typing import Tuple, List\n",
        "from copy import copy\n",
        "\n",
        "from two_player_games.player import Player\n",
        "from two_player_games.games.connect_four import ConnectFour, ConnectFourMove"
      ]
    },
    {
      "cell_type": "markdown",
      "metadata": {
        "collapsed": false
      },
      "source": [
        "Wielkość planszy"
      ]
    },
    {
      "cell_type": "code",
      "execution_count": 75,
      "metadata": {
        "collapsed": false
      },
      "outputs": [],
      "source": [
        "ROW_COUNT = 5\n",
        "COLUMN_COUNT = 6"
      ]
    },
    {
      "cell_type": "code",
      "execution_count": 76,
      "metadata": {
        "collapsed": false
      },
      "outputs": [],
      "source": [
        "from copy import deepcopy\n",
        "\n",
        "\n",
        "class MinMaxSolver:\n",
        "    def __init__(self, game: ConnectFour):\n",
        "        self.game = game\n",
        "\n",
        "    def evaluate_position(self, player: Player)->float:\n",
        "        return self._get_payoff(player) if self._is_terminal_position() else self.evaluate_heuristic(player)\n",
        "    \n",
        "    def evaluate_heuristic(self, player: Player)->float:\n",
        "        oponent = self.game.first_player if self.game.first_player != player else self.game.second_player\n",
        "\n",
        "        player_score = \\\n",
        "            self._evaluate_middle_position_heuristic(player) + \\\n",
        "            self._evaluate_check_heuristic(player)\n",
        "        \n",
        "        oponent_score = \\\n",
        "            self._evaluate_middle_position_heuristic(oponent) + \\\n",
        "            self._evaluate_check_heuristic(oponent)\n",
        "\n",
        "        return player_score - oponent_score\n",
        "\n",
        "\n",
        "    def get_best_move(self)->int:\n",
        "        pass\n",
        "\n",
        "    def is_valid_move(self, col_index:int)->bool:\n",
        "        return col_index in [move.column for move in self.game.get_moves()]\n",
        "\n",
        "    def minimax(self, depth, alpha:float, beta:float, is_maximizing_player:bool)-> Tuple[int, float]:\n",
        "        \"\"\"Returns column index and score\"\"\"\n",
        "        if depth == 0 or self.game.is_finished():\n",
        "            return None, self.evaluate_position(self.game.first_player)\n",
        "        \n",
        "        if is_maximizing_player:\n",
        "            max_score = float('-inf')\n",
        "            max_best_move = None\n",
        "            for move in self.game.get_moves():\n",
        "                current_state = deepcopy(self.game.state)\n",
        "                self.game.make_move(move)\n",
        "                _, new_max_score = self.minimax(depth - 1, alpha, beta, False)\n",
        "                self.game.state = current_state\n",
        "                if new_max_score > max_score:\n",
        "                    max_score = new_max_score\n",
        "                    max_best_move = move.column\n",
        "                \n",
        "                alpha = max(alpha,  max_score)\n",
        "                if  alpha >= beta:\n",
        "                    break\n",
        "\n",
        "            return max_best_move, max_score\n",
        "\n",
        "        else:\n",
        "            min_score = float('inf')\n",
        "            min_best_move = None\n",
        "            for move in self.game.get_moves():\n",
        "                current_state = deepcopy(self.game.state)\n",
        "                self.game.make_move(move)\n",
        "                _, new_min_score = self.minimax(depth - 1, alpha, beta, True)\n",
        "                self.game.state = current_state\n",
        "                if new_min_score < min_score:\n",
        "                    min_score = new_min_score\n",
        "                    min_best_move = move.column\n",
        "                \n",
        "                beta = min(beta, min_score)\n",
        "                if  alpha >= beta:\n",
        "                    break\n",
        "        \n",
        "            return min_best_move, min_score\n",
        "        \n",
        "    # Helper functions\n",
        "\n",
        "    def _is_terminal_position(self)->bool:\n",
        "        return self.game.is_finished()\n",
        "\n",
        "    def _get_payoff(self, player: Player)->int:\n",
        "        winner = self.game.get_winner()\n",
        "        if winner is None:\n",
        "            return 0    # draw\n",
        "    \n",
        "        if self.game.first_player == winner:\n",
        "            return float('inf')    # player won\n",
        "        \n",
        "        return float('-inf')   # player lost\n",
        "    \n",
        "    def _evaluate_middle_position_heuristic(self, player: Player)->float:\n",
        "        middle_columns = [len(self.game.state.fields) // 2 - 1, len(self.game.state.fields) // 2]\n",
        "        middle_pieces_counts = [self.game.state.count_pieces(col, player) for col in middle_columns]\n",
        "        return sum(self._score_middle_pieces(count) for count in middle_pieces_counts)\n",
        "    \n",
        "    def _evaluate_check_heuristic(self, player: Player) -> float:\n",
        "        checks = self.game.state.count_checks(player)\n",
        "        return sum(self._score_check(check) for check in checks)\n",
        "    \n",
        "    def _score_middle_pieces(self, count: int) -> int:\n",
        "        return 2 ** (count - 1) if count > 0 else 0\n",
        "    \n",
        "    def _score_check(self, check:  int) -> int:\n",
        "        return 4**(check - 1) if check > 0 else 0\n",
        "    \n"
      ]
    },
    {
      "cell_type": "code",
      "execution_count": 77,
      "metadata": {},
      "outputs": [],
      "source": [
        "import random\n",
        "from IPython.display import clear_output"
      ]
    },
    {
      "cell_type": "markdown",
      "metadata": {
        "collapsed": false
      },
      "source": [
        "## Rozgrywka"
      ]
    },
    {
      "cell_type": "markdown",
      "metadata": {},
      "source": [
        "### Rozpoczęcie od środka"
      ]
    },
    {
      "cell_type": "code",
      "execution_count": 78,
      "metadata": {},
      "outputs": [
        {
          "name": "stdout",
          "output_type": "stream",
          "text": [
            "Current player: \u001b[91mb\u001b[0m\n",
            "[  ][  ][  ][  ][  ][  ]\n",
            "[  ][  ][  ][  ][  ][  ]\n",
            "[  ][  ][  ][  ][  ][  ]\n",
            "[  ][  ][  ][  ][  ][  ]\n",
            "[\u001b[94ma\u001b[0m][  ][  ][  ][  ][  ]\n",
            "A should move to 0 column with score: 0\n"
          ]
        }
      ],
      "source": [
        "# Static test\n",
        "\n",
        "p1 = Player(\"a\")\n",
        "p2 = Player(\"b\")\n",
        "\n",
        "game = ConnectFour(size=(COLUMN_COUNT, ROW_COUNT), first_player=p1, second_player=p2)\n",
        "solver = MinMaxSolver(game)\n",
        "\n",
        "oponent_move, score = solver.minimax(5, float('-inf'), float('inf'), True)\n",
        "game.make_move(ConnectFourMove(oponent_move))\n",
        "\n",
        "print(game)\n",
        "print(f'A should move to {oponent_move} column with score: {score}')"
      ]
    },
    {
      "cell_type": "markdown",
      "metadata": {},
      "source": [
        "### Znajdowanie wygranej"
      ]
    },
    {
      "cell_type": "code",
      "execution_count": 79,
      "metadata": {},
      "outputs": [
        {
          "name": "stdout",
          "output_type": "stream",
          "text": [
            "Current player: \u001b[91mb\u001b[0m\n",
            "[  ][  ][  ][  ][  ][  ]\n",
            "[  ][  ][  ][  ][  ][  ]\n",
            "[  ][  ][  ][\u001b[91mb\u001b[0m][  ][  ]\n",
            "[  ][  ][  ][\u001b[91mb\u001b[0m][  ][  ]\n",
            "[\u001b[94ma\u001b[0m][  ][\u001b[94ma\u001b[0m][\u001b[91mb\u001b[0m][\u001b[94ma\u001b[0m][\u001b[94ma\u001b[0m]\n",
            "B should move to 3 column with score: -inf\n"
          ]
        }
      ],
      "source": [
        "# Static test\n",
        "\n",
        "p1 = Player(\"a\")\n",
        "p2 = Player(\"b\")\n",
        "\n",
        "game = ConnectFour(size=(COLUMN_COUNT, ROW_COUNT), first_player=p1, second_player=p2)\n",
        "solver = MinMaxSolver(game)\n",
        "\n",
        "game.make_move(ConnectFourMove(2))\n",
        "game.make_move(ConnectFourMove(3))\n",
        "\n",
        "game.make_move(ConnectFourMove(5))\n",
        "game.make_move(ConnectFourMove(3))\n",
        "\n",
        "game.make_move(ConnectFourMove(4))\n",
        "game.make_move(ConnectFourMove(3))\n",
        "\n",
        "game.make_move(ConnectFourMove(0))\n",
        "\n",
        "oponent_move, score = solver.minimax(5, float('-inf'), float('inf'), False)\n",
        "print(game)\n",
        "print(f'B should move to {oponent_move} column with score: {score}')"
      ]
    },
    {
      "cell_type": "markdown",
      "metadata": {},
      "source": [
        "### Blokowanie przeciwnika"
      ]
    },
    {
      "cell_type": "code",
      "execution_count": 80,
      "metadata": {},
      "outputs": [
        {
          "name": "stdout",
          "output_type": "stream",
          "text": [
            "Current player: \u001b[94ma\u001b[0m\n",
            "[  ][  ][  ][  ][  ][  ]\n",
            "[  ][  ][  ][  ][  ][  ]\n",
            "[  ][  ][\u001b[94ma\u001b[0m][  ][  ][  ]\n",
            "[  ][  ][\u001b[94ma\u001b[0m][  ][  ][  ]\n",
            "[  ][  ][\u001b[94ma\u001b[0m][\u001b[91mb\u001b[0m][\u001b[91mb\u001b[0m][\u001b[91mb\u001b[0m]\n",
            "B should move to 2 column with score: -inf\n"
          ]
        }
      ],
      "source": [
        "# Static test\n",
        "\n",
        "p1 = Player(\"a\")\n",
        "p2 = Player(\"b\")\n",
        "\n",
        "game = ConnectFour(size=(COLUMN_COUNT, ROW_COUNT), first_player=p1, second_player=p2)\n",
        "solver = MinMaxSolver(game)\n",
        "\n",
        "game.make_move(ConnectFourMove(2))\n",
        "game.make_move(ConnectFourMove(3))\n",
        "\n",
        "game.make_move(ConnectFourMove(2))\n",
        "game.make_move(ConnectFourMove(4))\n",
        "\n",
        "game.make_move(ConnectFourMove(2))\n",
        "game.make_move(ConnectFourMove(5))\n",
        "\n",
        "oponent_move, score = solver.minimax(7,  float('-inf'), float('inf'), False)\n",
        "\n",
        "print(game)\n",
        "print(f'B should move to {oponent_move} column with score: {score}')"
      ]
    },
    {
      "cell_type": "code",
      "execution_count": 81,
      "metadata": {
        "collapsed": false
      },
      "outputs": [
        {
          "name": "stdout",
          "output_type": "stream",
          "text": [
            "Current player: \u001b[94ma\u001b[0m\n",
            "[  ][\u001b[94ma\u001b[0m][  ][  ][  ][  ]\n",
            "[  ][\u001b[91mb\u001b[0m][  ][  ][  ][  ]\n",
            "[\u001b[91mb\u001b[0m][\u001b[94ma\u001b[0m][  ][  ][  ][  ]\n",
            "[\u001b[91mb\u001b[0m][\u001b[94ma\u001b[0m][  ][  ][  ][  ]\n",
            "[\u001b[91mb\u001b[0m][\u001b[94ma\u001b[0m][  ][  ][  ][  ]\n"
          ]
        }
      ],
      "source": [
        "# Realtime test\n",
        "\n",
        "p1 = Player(\"a\")\n",
        "p2 = Player(\"b\")\n",
        "\n",
        "game = ConnectFour(size=(COLUMN_COUNT, ROW_COUNT), first_player=p1, second_player=p2)\n",
        "solver = MinMaxSolver(game)\n",
        "\n",
        "def print_game():\n",
        "    clear_output()\n",
        "    print(game)\n",
        "\n",
        "\n",
        "column = random.randint(0, COLUMN_COUNT - 1)\n",
        "print_game()\n",
        "for i in range(4):\n",
        "    # player move\n",
        "    game.make_move(ConnectFourMove(column))\n",
        "\n",
        "    # oponent move\n",
        "    oponent_move_column, oponent_score = solver.minimax(5, float('-inf'),  float('inf'),  True)\n",
        "    if oponent_move_column is None:\n",
        "        print(\"No move\")\n",
        "        break\n",
        "\n",
        "    game.make_move(ConnectFourMove(oponent_move_column))\n",
        "    print_game()\n"
      ]
    },
    {
      "cell_type": "markdown",
      "metadata": {},
      "source": [
        "### Symulacja dwóch agentów"
      ]
    },
    {
      "cell_type": "code",
      "execution_count": 82,
      "metadata": {},
      "outputs": [],
      "source": [
        "def simulate(depth: int, first_move: int = None, verbose: bool = False):\n",
        "    p1 = Player(\"a\")\n",
        "    p2 = Player(\"b\")\n",
        "\n",
        "    game = ConnectFour(size=(COLUMN_COUNT, ROW_COUNT), first_player=p1, second_player=p2)\n",
        "    solver = MinMaxSolver(game)\n",
        "\n",
        "    def print_game():\n",
        "        clear_output()\n",
        "        print(game)\n",
        "\n",
        "    # first player move\n",
        "    game.make_move(ConnectFourMove(first_move if first_move else random.randint(0, COLUMN_COUNT - 1)))\n",
        "\n",
        "    if verbose:\n",
        "        print_game()\n",
        "\n",
        "    while not game.is_finished():\n",
        "        # oponent move\n",
        "        oponent_move_column, oponent_score = solver.minimax(depth, float('-inf'),  float('inf'),  False)\n",
        "        if oponent_move_column is None:\n",
        "            oponent_move_column = random.choice(game.get_moves()).column  # lost game\n",
        "\n",
        "        game.make_move(ConnectFourMove(oponent_move_column))\n",
        "\n",
        "        if verbose:\n",
        "            print_game()\n",
        "\n",
        "        if game.is_finished():\n",
        "            break\n",
        "\n",
        "        # player move\n",
        "        player_move_column, player_score = solver.minimax(depth, float('-inf'),  float('inf'),  True)\n",
        "        if player_move_column is None:\n",
        "            player_move_column = random.choice(game.get_moves()).column # lost game\n",
        "        \n",
        "        game.make_move(ConnectFourMove(player_move_column))\n",
        "\n",
        "    return game.get_winner()"
      ]
    },
    {
      "cell_type": "code",
      "execution_count": 93,
      "metadata": {},
      "outputs": [
        {
          "name": "stdout",
          "output_type": "stream",
          "text": [
            "Current player: \u001b[94ma\u001b[0m\n",
            "[\u001b[91mb\u001b[0m][\u001b[94ma\u001b[0m][\u001b[94ma\u001b[0m][\u001b[91mb\u001b[0m][\u001b[91mb\u001b[0m][\u001b[91mb\u001b[0m]\n",
            "[\u001b[94ma\u001b[0m][\u001b[91mb\u001b[0m][\u001b[91mb\u001b[0m][\u001b[94ma\u001b[0m][\u001b[94ma\u001b[0m][\u001b[94ma\u001b[0m]\n",
            "[\u001b[91mb\u001b[0m][\u001b[94ma\u001b[0m][\u001b[94ma\u001b[0m][\u001b[91mb\u001b[0m][\u001b[91mb\u001b[0m][\u001b[91mb\u001b[0m]\n",
            "[\u001b[94ma\u001b[0m][\u001b[91mb\u001b[0m][\u001b[91mb\u001b[0m][\u001b[94ma\u001b[0m][\u001b[91mb\u001b[0m][\u001b[94ma\u001b[0m]\n",
            "[\u001b[91mb\u001b[0m][\u001b[94ma\u001b[0m][\u001b[94ma\u001b[0m][\u001b[91mb\u001b[0m][\u001b[94ma\u001b[0m][\u001b[94ma\u001b[0m]\n",
            "Draw\n"
          ]
        }
      ],
      "source": [
        "# Interactive simulation\n",
        "depth = 5\n",
        "winner = simulate(depth, verbose=True)\n",
        "\n",
        "if winner is None:\n",
        "    print(\"Draw\")\n",
        "else:\n",
        "    print(f\"Winner is {winner.char}\")"
      ]
    },
    {
      "cell_type": "code",
      "execution_count": 102,
      "metadata": {},
      "outputs": [
        {
          "name": "stdout",
          "output_type": "stream",
          "text": [
            "With depth 1 result was: draw\n",
            "With depth 2 result was: draw\n",
            "With depth 3 result was: a\n",
            "With depth 4 result was: draw\n",
            "With depth 5 result was: draw\n",
            "With depth 6 result was: a\n",
            "With depth 7 result was: draw\n"
          ]
        }
      ],
      "source": [
        "# Results test\n",
        "for depth in range(1, 8):\n",
        "    winner = simulate(depth)\n",
        "    print(f'With depth {depth} result was: {winner.char if winner else \"draw\"}')"
      ]
    },
    {
      "cell_type": "markdown",
      "metadata": {},
      "source": [
        "### Gameplay"
      ]
    },
    {
      "cell_type": "code",
      "execution_count": null,
      "metadata": {},
      "outputs": [],
      "source": [
        "p1 = Player(\"a\")\n",
        "p2 = Player(\"b\")\n",
        "game = ConnectFour(size=(COLUMN_COUNT, ROW_COUNT), first_player=p1, second_player=p2)\n",
        "solver = MinMaxSolver(game)\n",
        "\n",
        "def print_game():\n",
        "    clear_output()\n",
        "    print(game)\n",
        "\n",
        "\n",
        "while not game.is_finished():\n",
        "    if game.get_current_player() == p1:\n",
        "        move = None\n",
        "        while True:\n",
        "            try:\n",
        "                move = int(input(\"Your turn: \"))\n",
        "            except:\n",
        "                print(\"Invalid move\")\n",
        "                continue\n",
        "            \n",
        "            if solver.is_valid_move(move):\n",
        "                break\n",
        "            else:\n",
        "                print(\"Invalid move\")\n",
        "        game.make_move(ConnectFourMove(move))\n",
        "    else:\n",
        "        move, score = solver.minimax(5, float('-inf'),  float('inf'),  False)\n",
        "        if move is None:\n",
        "            print(\"No move\")\n",
        "            break\n",
        "        game.make_move(ConnectFourMove(move))\n",
        "    print_game()\n",
        "\n",
        "    \n",
        "winner = game.get_winner()\n",
        "if winner is None:\n",
        "    print(\"Draw\")\n",
        "else:\n",
        "    print(\"Winner:\", winner.char)"
      ]
    }
  ],
  "metadata": {
    "kernelspec": {
      "display_name": "Python 3",
      "language": "python",
      "name": "python3"
    },
    "language_info": {
      "codemirror_mode": {
        "name": "ipython",
        "version": 3
      },
      "file_extension": ".py",
      "mimetype": "text/x-python",
      "name": "python",
      "nbconvert_exporter": "python",
      "pygments_lexer": "ipython3",
      "version": "3.12.0"
    },
    "nteract": {
      "version": "nteract-front-end@1.0.0"
    }
  },
  "nbformat": 4,
  "nbformat_minor": 0
}
